{
 "cells": [
  {
   "cell_type": "code",
   "execution_count": 40,
   "id": "58f6c6cc-f965-423f-bde3-833690e94eef",
   "metadata": {},
   "outputs": [
    {
     "name": "stdout",
     "output_type": "stream",
     "text": [
      "Requirement already satisfied: opencv-python in c:\\users\\adity\\anaconda3\\lib\\site-packages (4.10.0.84)\n",
      "Requirement already satisfied: numpy>=1.21.2 in c:\\users\\adity\\anaconda3\\lib\\site-packages (from opencv-python) (1.26.4)\n",
      "Requirement already satisfied: twilio in c:\\users\\adity\\anaconda3\\lib\\site-packages (9.3.0)\n",
      "Requirement already satisfied: requests>=2.0.0 in c:\\users\\adity\\anaconda3\\lib\\site-packages (from twilio) (2.32.2)\n",
      "Requirement already satisfied: PyJWT<3.0.0,>=2.0.0 in c:\\users\\adity\\anaconda3\\lib\\site-packages (from twilio) (2.8.0)\n",
      "Requirement already satisfied: aiohttp>=3.8.4 in c:\\users\\adity\\anaconda3\\lib\\site-packages (from twilio) (3.9.5)\n",
      "Requirement already satisfied: aiohttp-retry>=2.8.3 in c:\\users\\adity\\anaconda3\\lib\\site-packages (from twilio) (2.8.3)\n",
      "Requirement already satisfied: aiosignal>=1.1.2 in c:\\users\\adity\\anaconda3\\lib\\site-packages (from aiohttp>=3.8.4->twilio) (1.2.0)\n",
      "Requirement already satisfied: attrs>=17.3.0 in c:\\users\\adity\\anaconda3\\lib\\site-packages (from aiohttp>=3.8.4->twilio) (23.1.0)\n",
      "Requirement already satisfied: frozenlist>=1.1.1 in c:\\users\\adity\\anaconda3\\lib\\site-packages (from aiohttp>=3.8.4->twilio) (1.4.0)\n",
      "Requirement already satisfied: multidict<7.0,>=4.5 in c:\\users\\adity\\anaconda3\\lib\\site-packages (from aiohttp>=3.8.4->twilio) (6.0.4)\n",
      "Requirement already satisfied: yarl<2.0,>=1.0 in c:\\users\\adity\\anaconda3\\lib\\site-packages (from aiohttp>=3.8.4->twilio) (1.9.3)\n",
      "Requirement already satisfied: charset-normalizer<4,>=2 in c:\\users\\adity\\anaconda3\\lib\\site-packages (from requests>=2.0.0->twilio) (2.0.4)\n",
      "Requirement already satisfied: idna<4,>=2.5 in c:\\users\\adity\\anaconda3\\lib\\site-packages (from requests>=2.0.0->twilio) (3.7)\n",
      "Requirement already satisfied: urllib3<3,>=1.21.1 in c:\\users\\adity\\anaconda3\\lib\\site-packages (from requests>=2.0.0->twilio) (2.2.2)\n",
      "Requirement already satisfied: certifi>=2017.4.17 in c:\\users\\adity\\anaconda3\\lib\\site-packages (from requests>=2.0.0->twilio) (2024.8.30)\n"
     ]
    }
   ],
   "source": [
    "!pip install opencv-python\n",
    "!pip install twilio"
   ]
  },
  {
   "cell_type": "markdown",
   "id": "52116186-1018-4061-a12b-5085ff048464",
   "metadata": {},
   "source": [
    "1. Imports and Twilio Configuration"
   ]
  },
  {
   "cell_type": "code",
   "execution_count": 42,
   "id": "2a74a11b-1a2d-4119-b3a7-1b11570698bb",
   "metadata": {},
   "outputs": [],
   "source": [
    "import numpy as np\n",
    "import cv2\n",
    "import time\n",
    "import datetime\n",
    "from collections import deque\n",
    "from twilio.rest import Client\n",
    "import os\n",
    "\n",
    "# Twilio credentials (replace with your actual Twilio details)\n",
    "account_sid = ''  # Replace with your Account SID\n",
    "auth_token = ''    # Replace with your Auth Token\n",
    "your_num = ''    # Replace with your phone number\n",
    "twilio_num = ''   # Replace with your Twilio trial number"
   ]
  },
  {
   "cell_type": "markdown",
   "id": "8b201cb8-47fc-450e-a6a0-ab94d5a2f28b",
   "metadata": {},
   "source": [
    "2. Twilio Message Sending Function"
   ]
  },
  {
   "cell_type": "code",
   "execution_count": 44,
   "id": "fe675e46-d214-457c-86ba-a9d62fe72d13",
   "metadata": {},
   "outputs": [],
   "source": [
    "# Function to send a message using Twilio\n",
    "def send_message(body):\n",
    "    client = Client(account_sid, auth_token)\n",
    "    message = client.messages.create(\n",
    "        to=your_num,\n",
    "        from_=twilio_num,\n",
    "        body=body\n",
    "    )"
   ]
  },
  {
   "cell_type": "markdown",
   "id": "0b5b64b4-7af7-4202-9a63-9b5da7820a19",
   "metadata": {},
   "source": [
    "3. Person Detection Function"
   ]
  },
  {
   "cell_type": "code",
   "execution_count": 46,
   "id": "f150485d-2be6-4497-abfc-37bbd952ca99",
   "metadata": {},
   "outputs": [],
   "source": [
    "# Function to check if a person is detected in the frame\n",
    "def is_person_present(frame, thresh=1100):\n",
    "    global foog\n",
    "\n",
    "    # Apply background subtraction\n",
    "    fgmask = foog.apply(frame)\n",
    "\n",
    "    # Get rid of shadows\n",
    "    ret, fgmask = cv2.threshold(fgmask, 250, 255, cv2.THRESH_BINARY)\n",
    "\n",
    "    # Morphological operations for noise reduction\n",
    "    fgmask = cv2.dilate(fgmask, kernel, iterations=4)\n",
    "\n",
    "    # Detect contours\n",
    "    contours, _ = cv2.findContours(fgmask, cv2.RETR_EXTERNAL, cv2.CHAIN_APPROX_SIMPLE)\n",
    "\n",
    "    # Check for the largest contour and ensure it's larger than the threshold\n",
    "    if contours and cv2.contourArea(max(contours, key=cv2.contourArea)) > thresh:\n",
    "        cnt = max(contours, key=cv2.contourArea)\n",
    "        x, y, w, h = cv2.boundingRect(cnt)\n",
    "        # Modernized detection box color and font\n",
    "        cv2.rectangle(frame, (x, y), (x + w, y + h), (0, 150, 255), 3)  # Sleek orange box\n",
    "        cv2.putText(frame, 'Person Detected', (x, y - 15), cv2.FONT_HERSHEY_SIMPLEX, 0.8, (0, 255, 0), 2, cv2.LINE_AA)  # Improved font\n",
    "        return True, frame\n",
    "    else:\n",
    "        return False, frame"
   ]
  },
  {
   "cell_type": "markdown",
   "id": "77cf53f2-16de-4cbe-aa0f-7ee441560656",
   "metadata": {},
   "source": [
    "4. Setup and Initialization"
   ]
  },
  {
   "cell_type": "code",
   "execution_count": 48,
   "id": "392ebba4-2270-4e35-b22e-393fa9e433f4",
   "metadata": {},
   "outputs": [],
   "source": [
    "# Set up video capture, video writer, and background subtractor\n",
    "cap = cv2.VideoCapture('http://192.168.0.102:8080/video')  # Replace with your IP camera URL\n",
    "foog = cv2.createBackgroundSubtractorMOG2(detectShadows=True, varThreshold=100, history=2000)\n",
    "\n",
    "# Ensure the outputs directory exists\n",
    "output_dir = 'C:/Users/Adity/OneDrive/Desktop/outputs'\n",
    "if not os.path.exists(output_dir):\n",
    "    os.makedirs(output_dir)\n",
    "\n",
    "# Window settings for resizing\n",
    "cv2.namedWindow('Live Video Feed', cv2.WINDOW_NORMAL)\n",
    "\n",
    "# Get width and height of the frame\n",
    "width = int(cap.get(3))\n",
    "height = int(cap.get(4))\n",
    "\n",
    "# Video status flags\n",
    "status = False\n",
    "patience = 7\n",
    "detection_thresh = 15\n",
    "initial_time = None\n",
    "de = deque([False] * detection_thresh, maxlen=detection_thresh)\n",
    "\n",
    "# FPS and timing\n",
    "fps = 0\n",
    "frame_counter = 0\n",
    "start_time = time.time()\n",
    "\n",
    "# Kernel for morphological operations\n",
    "kernel = cv2.getStructuringElement(cv2.MORPH_ELLIPSE, (5, 5))  # Example kernel"
   ]
  },
  {
   "cell_type": "markdown",
   "id": "a10afc0b-e4f2-4a6c-9a11-3605a2263517",
   "metadata": {},
   "source": [
    "5. Main Loop"
   ]
  },
  {
   "cell_type": "code",
   "execution_count": 50,
   "id": "8573a50e-2da8-4f2f-b09c-ac65062bbec7",
   "metadata": {},
   "outputs": [],
   "source": [
    "while True:\n",
    "    ret, frame = cap.read()\n",
    "    if not ret:\n",
    "        break\n",
    "\n",
    "    # Check if a person is detected in the frame\n",
    "    detected, annotated_image = is_person_present(frame)\n",
    "\n",
    "    # Register the detection status in deque\n",
    "    de.appendleft(detected)\n",
    "\n",
    "    # Logic for detecting a person\n",
    "    if sum(de) == detection_thresh and not status:\n",
    "        status = True\n",
    "        entry_time = datetime.datetime.now().strftime(\"%A, %I-%M-%S %p %d %B %Y\")\n",
    "        try:\n",
    "            out = cv2.VideoWriter(f'{output_dir}/{entry_time}.mp4', cv2.VideoWriter_fourcc(*'XVID'), 15.0, (width, height))\n",
    "        except Exception as e:\n",
    "            print(f\"Error initializing video writer: {e}\")\n",
    "            continue\n",
    "\n",
    "    # Handle logic when person leaves the frame\n",
    "    if status and not detected:\n",
    "        if sum(de) > (detection_thresh / 2):\n",
    "            if initial_time is None:\n",
    "                initial_time = time.time()\n",
    "        elif initial_time is not None:\n",
    "            if time.time() - initial_time >= patience:\n",
    "                status = False\n",
    "                exit_time = datetime.datetime.now().strftime(\"%A, %I:%M:%S %p %d %B %Y\")\n",
    "                out.release()\n",
    "                initial_time = None\n",
    "                body = f\"Alert: \\nA Person Entered the Room at {entry_time}\\nLeft the room at {exit_time}\"\n",
    "                send_message(body)\n",
    "\n",
    "    # Reset initial_time if detection count goes up\n",
    "    elif status and sum(de) > (detection_thresh / 2):\n",
    "        initial_time = None\n",
    "\n",
    "    # Display current time, FPS, day, and room status\n",
    "    current_time = datetime.datetime.now().strftime(\"%I:%M:%S %p\")\n",
    "    current_day = datetime.datetime.now().strftime(\"%A\")\n",
    "    date = datetime.datetime.now().strftime(\"%d %B, %Y\")\n",
    "    cv2.putText(annotated_image, f'Time: {current_time}', (10, 50), cv2.FONT_HERSHEY_PLAIN, 1.0, (255, 255, 255), 2)\n",
    "    cv2.putText(annotated_image, f'Day: {current_day}', (10, 90), cv2.FONT_HERSHEY_PLAIN, 1.0, (255, 255, 255), 2)\n",
    "    cv2.putText(annotated_image, f'Date: {date}', (10, 130), cv2.FONT_HERSHEY_PLAIN, 1.0, (255, 255, 255), 2)\n",
    "    cv2.putText(annotated_image, f'Room Occupied: {status}', (10, 20), cv2.FONT_HERSHEY_PLAIN, 1.1, (0, 255, 0), 2)\n",
    "\n",
    "    # Display FPS and detection status\n",
    "    fps_text = f'FPS: {fps:.2f}'\n",
    "    cv2.putText(annotated_image, fps_text, (width - 200, height - 50), cv2.FONT_HERSHEY_PLAIN, 1.0, (255, 255, 255), 2)\n",
    "\n",
    "    # Display patience countdown if needed\n",
    "    if initial_time is None:\n",
    "        patience_text = f'Patience: {patience}'\n",
    "    else:\n",
    "        patience_text = f'Patience: {max(0, patience - (time.time() - initial_time)):.2f}'\n",
    "    cv2.putText(annotated_image, patience_text, (width - 250, height - 20), cv2.FONT_HERSHEY_PLAIN, 1.0, (0, 255, 255), 2)\n",
    "\n",
    "    # Save frame if a person is detected\n",
    "    if status:\n",
    "        out.write(annotated_image)\n",
    "\n",
    "    # Show the frame with updated window title\n",
    "    cv2.imshow('Live Video Feed', annotated_image)\n",
    "\n",
    "    # Calculate FPS\n",
    "    frame_counter += 1\n",
    "    fps = frame_counter / (time.time() - start_time)\n",
    "\n",
    "    # Exit on 'q' key press\n",
    "    if cv2.waitKey(30) == ord('q'):\n",
    "        break"
   ]
  },
  {
   "cell_type": "markdown",
   "id": "80d21891-ec84-4917-ba4f-f5bf76553e0e",
   "metadata": {},
   "source": [
    "6. Cleanup"
   ]
  },
  {
   "cell_type": "code",
   "execution_count": 52,
   "id": "54a42f89-7f25-40a9-ae16-2f47a0390362",
   "metadata": {},
   "outputs": [],
   "source": [
    "# Cleanup\n",
    "cap.release()\n",
    "cv2.destroyAllWindows()\n",
    "if status:\n",
    "    out.release()"
   ]
  },
  {
   "cell_type": "markdown",
   "id": "c05420de-a85a-4d0f-8485-ce4c2f9990f9",
   "metadata": {},
   "source": [
    "END"
   ]
  }
 ],
 "metadata": {
  "kernelspec": {
   "display_name": "Python 3 (ipykernel)",
   "language": "python",
   "name": "python3"
  },
  "language_info": {
   "codemirror_mode": {
    "name": "ipython",
    "version": 3
   },
   "file_extension": ".py",
   "mimetype": "text/x-python",
   "name": "python",
   "nbconvert_exporter": "python",
   "pygments_lexer": "ipython3",
   "version": "3.12.4"
  }
 },
 "nbformat": 4,
 "nbformat_minor": 5
}
